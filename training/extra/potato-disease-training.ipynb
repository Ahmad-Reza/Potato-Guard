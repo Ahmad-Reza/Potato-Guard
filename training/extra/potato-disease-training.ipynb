{
 "cells": [
  {
   "cell_type": "markdown",
   "id": "118e6b07-e0ec-4308-a97e-c391e7b72c70",
   "metadata": {},
   "source": [
    "# Potato Disease Classification\n",
    "\n",
    "## Import all the require dependencies"
   ]
  },
  {
   "cell_type": "code",
   "execution_count": 1,
   "id": "1c53b93a-48a7-46c2-bbc5-4576f242bae7",
   "metadata": {},
   "outputs": [],
   "source": [
    "import numpy as np\n",
    "import os\n",
    "from tensorflow.keras import models, layers\n",
    "from tensorflow.keras.preprocessing.image import ImageDataGenerator\n",
    "from tensorflow.keras.preprocessing import image\n",
    "from tensorflow.keras.preprocessing.image import img_to_array\n",
    "import tensorflow as tf\n",
    "import matplotlib.pyplot as plt\n",
    "\n",
    "from tensorflow.keras import backend as K"
   ]
  },
  {
   "cell_type": "markdown",
   "id": "fc59ca22-a1d2-425c-9898-86dc82bd2fdd",
   "metadata": {},
   "source": [
    "## Set all the constants"
   ]
  },
  {
   "cell_type": "code",
   "execution_count": null,
   "id": "5ebeada1-559d-47fd-a9d9-9ab55cda02d8",
   "metadata": {},
   "outputs": [],
   "source": []
  }
 ],
 "metadata": {
  "kernelspec": {
   "display_name": "Python 3 (ipykernel)",
   "language": "python",
   "name": "python3"
  },
  "language_info": {
   "codemirror_mode": {
    "name": "ipython",
    "version": 3
   },
   "file_extension": ".py",
   "mimetype": "text/x-python",
   "name": "python",
   "nbconvert_exporter": "python",
   "pygments_lexer": "ipython3",
   "version": "3.9.18"
  }
 },
 "nbformat": 4,
 "nbformat_minor": 5
}
